{
 "cells": [
  {
   "cell_type": "code",
   "execution_count": 1,
   "metadata": {},
   "outputs": [
    {
     "name": "stdout",
     "output_type": "stream",
     "text": [
      "matplotlib 3.1.1\n",
      "numpy 1.16.0\n",
      "pandas 0.25.1\n",
      "sklearn 0.21.3\n",
      "tensorflow 2.0.0-beta0\n",
      "tensorflow.python.keras.api._v2.keras 2.2.4-tf\n"
     ]
    }
   ],
   "source": [
    "import tensorflow as tf\n",
    "from tensorflow import keras\n",
    "\n",
    "import matplotlib as mpl\n",
    "import matplotlib.pyplot as plt\n",
    "%matplotlib inline\n",
    "\n",
    "import sklearn\n",
    "import numpy as np\n",
    "import pandas as pd\n",
    "import os,sys,time\n",
    "\n",
    "for module in mpl,np,pd,sklearn,tf,keras:\n",
    "    print(module.__name__,module.__version__)"
   ]
  },
  {
   "cell_type": "code",
   "execution_count": 2,
   "metadata": {},
   "outputs": [
    {
     "name": "stdout",
     "output_type": "stream",
     "text": [
      "(55000, 28, 28) (55000,)\n",
      "(5000, 28, 28) (5000,)\n",
      "(10000, 28, 28) (10000,)\n"
     ]
    }
   ],
   "source": [
    "fashion_mnist = keras.datasets.fashion_mnist\n",
    "(x_train,y_train),(x_test,y_test) = fashion_mnist.load_data()\n",
    "\n",
    "#把训练集差分成训练集和验证集\n",
    "x_valid,x_train = x_train[:5000],x_train[5000:]\n",
    "y_valid,y_train = y_train[:5000],y_train[5000:]\n",
    "\n",
    "print(x_train.shape,y_train.shape)\n",
    "print(x_valid.shape,y_valid.shape)\n",
    "print(x_test.shape,y_test.shape)"
   ]
  },
  {
   "cell_type": "code",
   "execution_count": 3,
   "metadata": {},
   "outputs": [],
   "source": [
    "# 加入批归一化\n",
    "\n",
    "from sklearn.preprocessing import StandardScaler\n",
    "\n",
    "scaler = StandardScaler()\n",
    "# x :[None,28,28]-->[None,784]\n",
    "x_train_scaled = scaler.fit_transform(\n",
    "    x_train.astype(np.float32).reshape(-1,1)).reshape(-1,28,28)\n",
    "\n",
    "x_valid_scaled = scaler.transform(\n",
    "    x_valid.astype(np.float32).reshape(-1,1)).reshape(-1,28,28)\n",
    "\n",
    "x_test_scaled = scaler.transform(\n",
    "    x_test.astype(np.float32).reshape(-1,1)).reshape(-1,28,28)"
   ]
  },
  {
   "cell_type": "code",
   "execution_count": 4,
   "metadata": {},
   "outputs": [],
   "source": [
    "# tf.keras.models.sequential\n",
    "\n",
    "model = keras.models.Sequential()\n",
    "model.add(keras.layers.Flatten(input_shape=[28,28],name='input'))\n",
    "model.add(keras.layers.Dense(300,activation='relu',name='fc1')) #relu: y = max(0,x)\n",
    "model.add(keras.layers.Dense(100,activation='relu',name='fc2'))\n",
    "model.add(keras.layers.Dense(10,activation='softmax',name='softmax')) #softmax 将向量变成概率分布\n",
    "\n",
    "from tensorflow.keras.optimizers import SGD\n",
    "sgd = SGD(lr=0.1)\n",
    "# 如果标签只是一个数，用sce 如果是向量则直接用cross entropy\n",
    "model.compile(loss=\"sparse_categorical_crossentropy\",\n",
    "             optimizer = sgd,metrics=[\"accuracy\"]\n",
    "             )"
   ]
  },
  {
   "cell_type": "code",
   "execution_count": 6,
   "metadata": {},
   "outputs": [
    {
     "name": "stdout",
     "output_type": "stream",
     "text": [
      "WARNING:tensorflow:From C:\\ProgramData\\Anaconda3\\envs\\tf2.0\\lib\\site-packages\\tensorflow\\python\\ops\\math_grad.py:1250: add_dispatch_support.<locals>.wrapper (from tensorflow.python.ops.array_ops) is deprecated and will be removed in a future version.\n",
      "Instructions for updating:\n",
      "Use tf.where in 2.0, which has the same broadcast rule as np.where\n",
      "Train on 55000 samples, validate on 5000 samples\n",
      "Epoch 1/10\n",
      "55000/55000 [==============================] - 3s 54us/sample - loss: 0.4661 - accuracy: 0.8283 - val_loss: 0.3814 - val_accuracy: 0.8544\n",
      "Epoch 2/10\n",
      "55000/55000 [==============================] - 2s 44us/sample - loss: 0.3454 - accuracy: 0.8719 - val_loss: 0.3227 - val_accuracy: 0.8814\n",
      "Epoch 3/10\n",
      "55000/55000 [==============================] - 3s 47us/sample - loss: 0.3046 - accuracy: 0.8864 - val_loss: 0.3638 - val_accuracy: 0.8700\n",
      "Epoch 4/10\n",
      "55000/55000 [==============================] - 2s 44us/sample - loss: 0.2804 - accuracy: 0.8960 - val_loss: 0.3361 - val_accuracy: 0.8778\n",
      "Epoch 5/10\n",
      "55000/55000 [==============================] - 2s 43us/sample - loss: 0.2583 - accuracy: 0.9035 - val_loss: 0.3281 - val_accuracy: 0.8830\n",
      "Epoch 6/10\n",
      "55000/55000 [==============================] - 3s 52us/sample - loss: 0.2418 - accuracy: 0.9088 - val_loss: 0.3238 - val_accuracy: 0.8888\n",
      "Epoch 7/10\n",
      "55000/55000 [==============================] - 3s 52us/sample - loss: 0.2286 - accuracy: 0.9123 - val_loss: 0.3530 - val_accuracy: 0.8772\n",
      "Epoch 8/10\n",
      "55000/55000 [==============================] - 3s 53us/sample - loss: 0.2163 - accuracy: 0.9194 - val_loss: 0.3169 - val_accuracy: 0.8916\n",
      "Epoch 9/10\n",
      "55000/55000 [==============================] - 3s 53us/sample - loss: 0.2044 - accuracy: 0.9218 - val_loss: 0.3153 - val_accuracy: 0.8962\n",
      "Epoch 10/10\n",
      "55000/55000 [==============================] - 3s 55us/sample - loss: 0.1948 - accuracy: 0.9251 - val_loss: 0.3226 - val_accuracy: 0.8926\n"
     ]
    }
   ],
   "source": [
    "logdir = '.\\\\logdir'\n",
    "if not os.path.exists(logdir):\n",
    "    os.mkdir(logdir)\n",
    "modelfile =os.path.join(logdir ,\"model.h5\")\n",
    "\n",
    "callbacks=[\n",
    "    keras.callbacks.TensorBoard(logdir),\n",
    "    keras.callbacks.ModelCheckpoint(modelfile,save_best_only=True),\n",
    "    #keras.callbacks.EarlyStopping(patience=5,min_delta=1e-3),\n",
    "]\n",
    "\n",
    "history = model.fit(x_train_scaled,y_train,epochs=10,\n",
    "         validation_data=(x_valid_scaled,y_valid),\n",
    "                    callbacks=callbacks )"
   ]
  },
  {
   "cell_type": "code",
   "execution_count": 7,
   "metadata": {},
   "outputs": [
    {
     "name": "stdout",
     "output_type": "stream",
     "text": [
      "10000/10000 [==============================] - 0s 27us/sample - loss: 0.3572 - accuracy: 0.8813\n"
     ]
    },
    {
     "data": {
      "text/plain": [
       "[0.3571963914200664, 0.8813]"
      ]
     },
     "execution_count": 7,
     "metadata": {},
     "output_type": "execute_result"
    }
   ],
   "source": [
    "model.evaluate(x_test_scaled,y_test)"
   ]
  }
 ],
 "metadata": {
  "kernelspec": {
   "display_name": "tf2.0",
   "language": "python",
   "name": "tf2.0"
  },
  "language_info": {
   "codemirror_mode": {
    "name": "ipython",
    "version": 3
   },
   "file_extension": ".py",
   "mimetype": "text/x-python",
   "name": "python",
   "nbconvert_exporter": "python",
   "pygments_lexer": "ipython3",
   "version": "3.7.0"
  }
 },
 "nbformat": 4,
 "nbformat_minor": 2
}
