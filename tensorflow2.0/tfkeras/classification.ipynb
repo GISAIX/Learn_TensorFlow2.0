{
 "cells": [
  {
   "cell_type": "markdown",
   "metadata": {},
   "source": [
    "#### 分类问题与回归问题\n",
    " \n",
    "分类问题预测类别，模型输出是概率的分布。\n",
    "* 三分类输出样例：[0.2,0.7,0.1]\n",
    "    \n",
    "回归问题预测的是值，模型输出一个实数值。\n",
    "\n",
    "#### 目标函数\n",
    "分类问题：\n",
    "衡量目标类别与当前预测的差距：\n",
    "* 三分类输出样例：[0.2,0.7,0.1]\n",
    "* 三分类真实类别：2-->onehot-->[0,0,1]\n",
    "\n",
    "onehot编码，把正整数变为向量表达（离散值变成分布），该向量只有该正整数位置为1，其余位置为0."
   ]
  },
  {
   "cell_type": "code",
   "execution_count": 1,
   "metadata": {},
   "outputs": [
    {
     "name": "stdout",
     "output_type": "stream",
     "text": [
      "matplotlib 3.1.1\n",
      "numpy 1.16.0\n",
      "pandas 0.25.1\n",
      "sklearn 0.21.3\n",
      "tensorflow 2.0.0-beta0\n",
      "tensorflow.python.keras.api._v2.keras 2.2.4-tf\n"
     ]
    }
   ],
   "source": [
    "#检查版本\n",
    "\n",
    "import tensorflow as tf\n",
    "from tensorflow import keras\n",
    "\n",
    "import matplotlib as mpl\n",
    "import matplotlib.pyplot as plt\n",
    "%matplotlib inline\n",
    "\n",
    "import sklearn\n",
    "import numpy as np\n",
    "import pandas as pd\n",
    "import os,sys,time\n",
    "\n",
    "for module in mpl,np,pd,sklearn,tf,keras:\n",
    "    print(module.__name__,module.__version__)"
   ]
  },
  {
   "cell_type": "code",
   "execution_count": 2,
   "metadata": {},
   "outputs": [
    {
     "name": "stdout",
     "output_type": "stream",
     "text": [
      "(55000, 28, 28) (55000,)\n",
      "(5000, 28, 28) (5000,)\n",
      "(10000, 28, 28) (10000,)\n"
     ]
    }
   ],
   "source": [
    "#获得数据集\n",
    "\n",
    "fashion_mnist = keras.datasets.fashion_mnist\n",
    "(x_train,y_train),(x_test,y_test) = fashion_mnist.load_data()\n",
    "\n",
    "#把训练集差分成训练集和验证集\n",
    "x_valid,x_train = x_train[:5000],x_train[5000:]\n",
    "y_valid,y_train = y_train[:5000],y_train[5000:]\n",
    "\n",
    "print(x_train.shape,y_train.shape)\n",
    "print(x_valid.shape,y_valid.shape)\n",
    "print(x_test.shape,y_test.shape)"
   ]
  },
  {
   "cell_type": "code",
   "execution_count": 3,
   "metadata": {},
   "outputs": [],
   "source": [
    "# 加入批归一化\n",
    "\n",
    "from sklearn.preprocessing import StandardScaler\n",
    "\n",
    "scaler = StandardScaler()\n",
    "# x :[None,28,28]-->[None,784]\n",
    "x_train_scaled = scaler.fit_transform(\n",
    "    x_train.astype(np.float32).reshape(-1,1)).reshape(-1,28,28)\n",
    "\n",
    "x_valid_scaled = scaler.transform(\n",
    "    x_valid.astype(np.float32).reshape(-1,1)).reshape(-1,28,28)\n",
    "\n",
    "x_test_scaled = scaler.transform(\n",
    "    x_test.astype(np.float32).reshape(-1,1)).reshape(-1,28,28)\n",
    "\n",
    "\n"
   ]
  },
  {
   "cell_type": "code",
   "execution_count": null,
   "metadata": {},
   "outputs": [],
   "source": [
    "def show_single_image(img_arr):\n",
    "    plt.imshow(img_arr,cmap=\"binary\")\n",
    "    plt.show()\n",
    "\n",
    "show_single_image(x_train[1])"
   ]
  },
  {
   "cell_type": "code",
   "execution_count": null,
   "metadata": {},
   "outputs": [],
   "source": [
    "def show_much_images(n_rows,n_cols,x_data,y_data,class_names):\n",
    "    assert len(x_data) == len(y_data)\n",
    "    assert n_rows*n_cols<len(x_data)\n",
    "    \n",
    "    plt.figure(figsize=(n_cols*1.4,n_rows*1.6))\n",
    "    for row in range(n_rows):\n",
    "        for col in range(n_cols):\n",
    "            index = n_cols*row+col\n",
    "            plt.subplot(n_rows,n_cols,index+1)\n",
    "            plt.imshow(x_data[index],cmap=\"binary\",interpolation='nearest')\n",
    "            plt.axis('off')\n",
    "            plt.title(class_names[y_data[index]])\n",
    "    plt.show()\n",
    "\n",
    "class_names = ['tshirt','trouser','pullover','dress','coat','sandal','shirt','sneaker'\n",
    "              ,'bag','ankleboot']\n",
    "\n",
    "show_much_images(2,9,x_train,y_train,class_names)\n"
   ]
  },
  {
   "cell_type": "code",
   "execution_count": 4,
   "metadata": {},
   "outputs": [],
   "source": [
    "# tf.keras.models.sequential\n",
    "#构建模型\n",
    "\n",
    "model = keras.models.Sequential()\n",
    "model.add(keras.layers.Flatten(input_shape=[28,28],name='input'))\n",
    "model.add(keras.layers.Dense(300,activation='relu',name='fc1')) #relu: y = max(0,x)\n",
    "model.add(keras.layers.Dense(100,activation='relu',name='fc2'))\n",
    "model.add(keras.layers.Dense(10,activation='softmax',name='softmax')) #softmax 将向量变成概率分布\n",
    "\n",
    "from tensorflow.keras.optimizers import SGD\n",
    "sgd = SGD(lr=0.1)\n",
    "\n",
    "# 如果标签只是一个数，用sce 如果是向量则直接用cross entropy\n",
    "model.compile(loss=\"sparse_categorical_crossentropy\",\n",
    "             optimizer = sgd,metrics=[\"accuracy\"]\n",
    "             )"
   ]
  },
  {
   "cell_type": "code",
   "execution_count": 5,
   "metadata": {},
   "outputs": [
    {
     "name": "stdout",
     "output_type": "stream",
     "text": [
      "Model: \"sequential\"\n",
      "_________________________________________________________________\n",
      "Layer (type)                 Output Shape              Param #   \n",
      "=================================================================\n",
      "input (Flatten)              (None, 784)               0         \n",
      "_________________________________________________________________\n",
      "fc1 (Dense)                  (None, 300)               235500    \n",
      "_________________________________________________________________\n",
      "fc2 (Dense)                  (None, 100)               30100     \n",
      "_________________________________________________________________\n",
      "softmax (Dense)              (None, 10)                1010      \n",
      "=================================================================\n",
      "Total params: 266,610\n",
      "Trainable params: 266,610\n",
      "Non-trainable params: 0\n",
      "_________________________________________________________________\n"
     ]
    }
   ],
   "source": [
    "model.summary()"
   ]
  },
  {
   "cell_type": "code",
   "execution_count": 9,
   "metadata": {},
   "outputs": [
    {
     "name": "stdout",
     "output_type": "stream",
     "text": [
      "Train on 55000 samples, validate on 5000 samples\n",
      "Epoch 1/10\n",
      "55000/55000 [==============================] - 3s 57us/sample - loss: 0.4639 - accuracy: 0.8288 - val_loss: 0.3972 - val_accuracy: 0.8512\n",
      "Epoch 2/10\n",
      "55000/55000 [==============================] - 3s 60us/sample - loss: 0.3469 - accuracy: 0.8702 - val_loss: 0.4680 - val_accuracy: 0.8234\n",
      "Epoch 3/10\n",
      "55000/55000 [==============================] - 4s 67us/sample - loss: 0.3076 - accuracy: 0.8840 - val_loss: 0.3417 - val_accuracy: 0.8692\n",
      "Epoch 4/10\n",
      "55000/55000 [==============================] - 4s 77us/sample - loss: 0.2781 - accuracy: 0.8962 - val_loss: 0.3165 - val_accuracy: 0.8858\n",
      "Epoch 5/10\n",
      "55000/55000 [==============================] - 5s 94us/sample - loss: 0.2606 - accuracy: 0.9023 - val_loss: 0.3188 - val_accuracy: 0.8832\n",
      "Epoch 6/10\n",
      "55000/55000 [==============================] - 7s 131us/sample - loss: 0.2428 - accuracy: 0.9085 - val_loss: 0.4225 - val_accuracy: 0.8634\n",
      "Epoch 7/10\n",
      "55000/55000 [==============================] - 10s 184us/sample - loss: 0.2276 - accuracy: 0.9136 - val_loss: 0.3284 - val_accuracy: 0.8842\n",
      "Epoch 8/10\n",
      "55000/55000 [==============================] - 13s 231us/sample - loss: 0.2153 - accuracy: 0.9184 - val_loss: 0.3185 - val_accuracy: 0.8910\n",
      "Epoch 9/10\n",
      "55000/55000 [==============================] - 15s 276us/sample - loss: 0.2075 - accuracy: 0.9203 - val_loss: 0.3662 - val_accuracy: 0.8846\n",
      "Epoch 10/10\n",
      "55000/55000 [==============================] - 17s 309us/sample - loss: 0.1948 - accuracy: 0.9256 - val_loss: 0.3364 - val_accuracy: 0.8860\n"
     ]
    }
   ],
   "source": [
    "history = model.fit(x_train_scaled,y_train,epochs=10,\n",
    "         validation_data=(x_valid_scaled,y_valid),\n",
    "                   )"
   ]
  },
  {
   "cell_type": "code",
   "execution_count": 10,
   "metadata": {},
   "outputs": [
    {
     "data": {
      "image/png": "[encoded data removed]",
      "text/plain": [
       "<Figure size 576x360 with 1 Axes>"
      ]
     },
     "metadata": {
      "needs_background": "light"
     },
     "output_type": "display_data"
    }
   ],
   "source": [
    "def show_history(history):\n",
    "    pd.DataFrame(history.history).plot(figsize=(8,5))\n",
    "    plt.grid(True)\n",
    "    plt.gca().set_ylim(0,1)\n",
    "    plt.show()\n",
    "    \n",
    "show_history(history)"
   ]
  },
  {
   "cell_type": "code",
   "execution_count": 11,
   "metadata": {},
   "outputs": [
    {
     "name": "stdout",
     "output_type": "stream",
     "text": [
      "10000/10000 [==============================] - 2s 194us/sample - loss: 0.3689 - accuracy: 0.8781\n"
     ]
    },
    {
     "data": {
      "text/plain": [
       "[0.3688828088372946, 0.8781]"
      ]
     },
     "execution_count": 11,
     "metadata": {},
     "output_type": "execute_result"
    }
   ],
   "source": [
    "model.evaluate(x_test_scaled,y_test)"
   ]
  }
 ],
 "metadata": {
  "kernelspec": {
   "display_name": "tf2.0",
   "language": "python",
   "name": "tf2.0"
  },
  "language_info": {
   "codemirror_mode": {
    "name": "ipython",
    "version": 3
   },
   "file_extension": ".py",
   "mimetype": "text/x-python",
   "name": "python",
   "nbconvert_exporter": "python",
   "pygments_lexer": "ipython3",
   "version": "3.7.0"
  }
 },
 "nbformat": 4,
 "nbformat_minor": 2
}
