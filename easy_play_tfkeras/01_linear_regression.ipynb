{
 "cells": [
  {
   "cell_type": "markdown",
   "metadata": {},
   "source": [
    "导入必要的包并检查版本"
   ]
  },
  {
   "cell_type": "code",
   "execution_count": 1,
   "metadata": {},
   "outputs": [
    {
     "name": "stdout",
     "output_type": "stream",
     "text": [
      "matplotlib 3.1.1\n",
      "numpy 1.16.0\n",
      "pandas 0.25.1\n",
      "sklearn 0.21.3\n",
      "tensorflow 2.0.0-beta0\n",
      "tensorflow.python.keras.api._v2.keras 2.2.4-tf\n"
     ]
    }
   ],
   "source": [
    "# check version\n",
    "\n",
    "import tensorflow as tf\n",
    "from tensorflow import keras\n",
    "\n",
    "import matplotlib as mpl\n",
    "import matplotlib.pyplot as plt\n",
    "%matplotlib inline\n",
    "\n",
    "import sklearn\n",
    "import numpy as np\n",
    "import pandas as pd\n",
    "import os,sys,time\n",
    "\n",
    "for module in mpl,np,pd,sklearn,tf,keras:\n",
    "    print(module.__name__,module.__version__)"
   ]
  },
  {
   "cell_type": "markdown",
   "metadata": {},
   "source": [
    "使用Numpy生成随机数据"
   ]
  },
  {
   "cell_type": "code",
   "execution_count": 2,
   "metadata": {},
   "outputs": [],
   "source": [
    "#生成100个随机点\n",
    "x_data = np.random.rand(100)\n",
    "\n",
    "#添加噪声\n",
    "noise = np.random.normal(0,0.01,x_data.shape)\n",
    "\n",
    "#得到y值  权值和偏置分别为0.1和0.2\n",
    "y_data = x_data*0.1+0.2+noise"
   ]
  },
  {
   "cell_type": "code",
   "execution_count": 3,
   "metadata": {},
   "outputs": [
    {
     "data": {
      "image/png": "[encoded data removed]",
      "text/plain": [
       "<Figure size 432x288 with 1 Axes>"
      ]
     },
     "metadata": {
      "needs_background": "light"
     },
     "output_type": "display_data"
    }
   ],
   "source": [
    "#显示出生成的随机点\n",
    "plt.scatter(x_data,y_data)\n",
    "plt.show()"
   ]
  },
  {
   "cell_type": "markdown",
   "metadata": {},
   "source": [
    "构建DNN模型"
   ]
  },
  {
   "cell_type": "code",
   "execution_count": 4,
   "metadata": {},
   "outputs": [],
   "source": [
    "#使用Sequential()\n",
    "\n",
    "model = keras.models.Sequential([\n",
    "    keras.layers.Dense(units=1,input_dim=1)\n",
    "])\n",
    "\n",
    "model.compile(optimizer = \"sgd\",loss=\"mse\")"
   ]
  },
  {
   "cell_type": "markdown",
   "metadata": {},
   "source": [
    "训练模型"
   ]
  },
  {
   "cell_type": "code",
   "execution_count": 5,
   "metadata": {},
   "outputs": [
    {
     "name": "stdout",
     "output_type": "stream",
     "text": [
      "current cost: 0.7541975\n",
      "current cost: 0.0039644726\n",
      "current cost: 0.00030095404\n",
      "current cost: 0.000100378136\n",
      "current cost: 8.9396686e-05\n",
      "current cost: 8.879546e-05\n",
      "current cost: 8.876255e-05\n",
      "current cost: 8.876075e-05\n",
      "current cost: 8.876063e-05\n",
      "current cost: 8.876062e-05\n",
      "current cost: 8.876062e-05\n",
      "after train, weights is [[0.09986921]],bias is [0.19841254].\n"
     ]
    }
   ],
   "source": [
    "for step in range(10001):\n",
    "    cost = model.train_on_batch(x_data,y_data)\n",
    "    if step%1000==0:\n",
    "        print(\"current cost:\",cost)\n",
    "\n",
    "weight,bias = model.layers[0].get_weights()\n",
    "print(\"after train, weights is {},bias is {}.\".format(weight,bias))\n"
   ]
  },
  {
   "cell_type": "markdown",
   "metadata": {},
   "source": [
    "显示出预测结果"
   ]
  },
  {
   "cell_type": "code",
   "execution_count": 6,
   "metadata": {},
   "outputs": [
    {
     "data": {
      "image/png": "[encoded data removed]",
      "text/plain": [
       "<Figure size 432x288 with 1 Axes>"
      ]
     },
     "metadata": {
      "needs_background": "light"
     },
     "output_type": "display_data"
    }
   ],
   "source": [
    "y_predict = model.predict(x_data)\n",
    "plt.scatter(x_data,y_data)\n",
    "plt.plot(x_data,y_predict,'r-',lw=3)\n",
    "plt.show()"
   ]
  }
 ],
 "metadata": {
  "kernelspec": {
   "display_name": "tf2.0",
   "language": "python",
   "name": "tf2.0"
  },
  "language_info": {
   "codemirror_mode": {
    "name": "ipython",
    "version": 3
   },
   "file_extension": ".py",
   "mimetype": "text/x-python",
   "name": "python",
   "nbconvert_exporter": "python",
   "pygments_lexer": "ipython3",
   "version": "3.7.0"
  }
 },
 "nbformat": 4,
 "nbformat_minor": 2
}
