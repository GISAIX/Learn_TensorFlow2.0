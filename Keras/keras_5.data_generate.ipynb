{
 "cells": [
  {
   "cell_type": "code",
   "execution_count": 1,
   "metadata": {},
   "outputs": [
    {
     "name": "stderr",
     "output_type": "stream",
     "text": [
      "Using TensorFlow backend.\n"
     ]
    }
   ],
   "source": [
    "import numpy as np\n",
    "from keras.preprocessing.image import ImageDataGenerator,img_to_array,load_img"
   ]
  },
  {
   "cell_type": "markdown",
   "metadata": {},
   "source": [
    "### ImageDataGenerator参数："
   ]
  },
  {
   "cell_type": "markdown",
   "metadata": {},
   "source": [
    "* rotation_range是一个0~180的度数，用来指定随机选择图片的角度。  \n",
    "* width_shift和height_shift用来指定水平和竖直方向随机移动的程度，这是两个0~1之间的比  \n",
    "* rescale值将在执行其他处理前乘到整个图像上，我们的图像在RGB通道都是0~255的整数，这样的操作可能使图像的值过高或过低，所以我们将这个值定为0~1之间的数。  \n",
    "* shear_range是用来进行错切变换的程度，参考错切变换 \n",
    "* zoom_range用来进行随机的放大  \n",
    "* horizontal_flip随机的对图片进行水平翻转，这个参数适用于水平翻转不影响图片语义的时候  \n",
    "* fill_mode用来指定当需要进行像素填充，如旋转，水平和竖直位移时，如何填充新出现的像素"
   ]
  },
  {
   "cell_type": "code",
   "execution_count": 2,
   "metadata": {},
   "outputs": [],
   "source": [
    "datagen = ImageDataGenerator(\n",
    "    rotation_range = 40,width_shift_range = 0.2,height_shift_range = 0.2,rescale = 1/255,\n",
    "    shear_range = 20,zoom_range = 0.2,horizontal_flip = True,fill_mode = 'nearest') "
   ]
  },
  {
   "cell_type": "code",
   "execution_count": 3,
   "metadata": {},
   "outputs": [
    {
     "name": "stdout",
     "output_type": "stream",
     "text": [
      "finished!\n"
     ]
    }
   ],
   "source": [
    "img = load_img('catVSdog/train/cat/cat.1.jpg')\n",
    "x = img_to_array(img)\n",
    "x = np.expand_dims(x,0)\n",
    "\n",
    "# 生成20张图片\n",
    "i = 0\n",
    "for batch in datagen.flow(x, batch_size=1, save_to_dir='generate_images', save_prefix='new_cat', save_format='jpeg'):\n",
    "    i += 1\n",
    "    if i==20:\n",
    "        break\n",
    "print('finished!')"
   ]
  }
 ],
 "metadata": {
  "kernelspec": {
   "display_name": "Python 3",
   "language": "python",
   "name": "python3"
  },
  "language_info": {
   "codemirror_mode": {
    "name": "ipython",
    "version": 3
   },
   "file_extension": ".py",
   "mimetype": "text/x-python",
   "name": "python",
   "nbconvert_exporter": "python",
   "pygments_lexer": "ipython3",
   "version": "3.7.1"
  }
 },
 "nbformat": 4,
 "nbformat_minor": 2
}
