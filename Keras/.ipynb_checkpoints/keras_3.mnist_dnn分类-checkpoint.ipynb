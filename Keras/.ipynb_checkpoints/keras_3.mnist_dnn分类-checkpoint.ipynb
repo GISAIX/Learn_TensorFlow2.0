{
 "cells": [
  {
   "cell_type": "code",
   "execution_count": 1,
   "metadata": {},
   "outputs": [
    {
     "name": "stderr",
     "output_type": "stream",
     "text": [
      "Using TensorFlow backend.\n"
     ]
    }
   ],
   "source": [
    "import cv2 as cv\n",
    "import numpy as np\n",
    "import matplotlib.pyplot as plt\n",
    "from keras.datasets import mnist\n",
    "from keras.utils import np_utils\n",
    "from keras.models import Sequential\n",
    "from keras.layers import Dense,Dropout\n",
    "from keras.optimizers import SGD\n",
    "from keras.regularizers import l2"
   ]
  },
  {
   "cell_type": "markdown",
   "metadata": {},
   "source": [
    "### 载入数据"
   ]
  },
  {
   "cell_type": "code",
   "execution_count": 2,
   "metadata": {},
   "outputs": [
    {
     "name": "stdout",
     "output_type": "stream",
     "text": [
      "x_train_shape: (60000, 28, 28)\n",
      "y_train_shape: (60000,)\n",
      "x_test_shape: (10000, 28, 28)\n",
      "x_test_shape: (10000,)\n"
     ]
    }
   ],
   "source": [
    "(x_train_data,y_train_data),(x_test_data,y_test_data) = mnist.load_data()\n",
    "print(\"x_train_shape:\",x_train_data.shape)\n",
    "print(\"y_train_shape:\",y_train_data.shape)\n",
    "print(\"x_test_shape:\",x_test_data.shape)\n",
    "print(\"x_test_shape:\",y_test_data.shape)\n",
    "\n",
    "#60000x28x28 ==>60000x784 并且归一化\n",
    "x_train_data = x_train_data.reshape(x_train_data.shape[0],-1)/255.0\n",
    "x_test_data = x_test_data.reshape(x_test_data.shape[0],-1)/255.0\n",
    "\n",
    "# ==>onehot\n",
    "y_train_data = np_utils.to_categorical(y_train_data,num_classes=10)\n",
    "y_test_data = np_utils.to_categorical(y_test_data,num_classes=10)"
   ]
  },
  {
   "cell_type": "markdown",
   "metadata": {},
   "source": [
    "### 构建模型"
   ]
  },
  {
   "cell_type": "code",
   "execution_count": 5,
   "metadata": {
    "scrolled": true
   },
   "outputs": [
    {
     "name": "stdout",
     "output_type": "stream",
     "text": [
      "WARNING:tensorflow:From C:\\Users\\Peco\\Anaconda3\\lib\\site-packages\\tensorflow\\python\\framework\\op_def_library.py:263: colocate_with (from tensorflow.python.framework.ops) is deprecated and will be removed in a future version.\n",
      "Instructions for updating:\n",
      "Colocations handled automatically by placer.\n",
      "WARNING:tensorflow:From C:\\Users\\Peco\\Anaconda3\\lib\\site-packages\\keras\\backend\\tensorflow_backend.py:3445: calling dropout (from tensorflow.python.ops.nn_ops) with keep_prob is deprecated and will be removed in a future version.\n",
      "Instructions for updating:\n",
      "Please use `rate` instead of `keep_prob`. Rate should be set to `rate = 1 - keep_prob`.\n",
      "WARNING:tensorflow:From C:\\Users\\Peco\\Anaconda3\\lib\\site-packages\\tensorflow\\python\\ops\\math_ops.py:3066: to_int32 (from tensorflow.python.ops.math_ops) is deprecated and will be removed in a future version.\n",
      "Instructions for updating:\n",
      "Use tf.cast instead.\n",
      "Epoch 1/10\n",
      "60000/60000 [==============================] - 8s 135us/step - loss: 0.6304 - acc: 0.8501\n",
      "Epoch 2/10\n",
      "60000/60000 [==============================] - 8s 132us/step - loss: 0.4426 - acc: 0.9083\n",
      "Epoch 3/10\n",
      "60000/60000 [==============================] - 9s 143us/step - loss: 0.3920 - acc: 0.9205\n",
      "Epoch 4/10\n",
      "60000/60000 [==============================] - 8s 139us/step - loss: 0.3625 - acc: 0.9260\n",
      "Epoch 5/10\n",
      "60000/60000 [==============================] - 8s 131us/step - loss: 0.3405 - acc: 0.9325\n",
      "Epoch 6/10\n",
      "60000/60000 [==============================] - 7s 124us/step - loss: 0.3236 - acc: 0.9341\n",
      "Epoch 7/10\n",
      "60000/60000 [==============================] - 7s 121us/step - loss: 0.3073 - acc: 0.9382\n",
      "Epoch 8/10\n",
      "60000/60000 [==============================] - 7s 124us/step - loss: 0.2989 - acc: 0.9397\n",
      "Epoch 9/10\n",
      "60000/60000 [==============================] - 8s 126us/step - loss: 0.2899 - acc: 0.9415\n",
      "Epoch 10/10\n",
      "60000/60000 [==============================] - 7s 121us/step - loss: 0.2856 - acc: 0.9424\n",
      "10000/10000 [==============================] - 1s 65us/step\n",
      "test loss:  0.21479864528179168\n",
      "test acc:  0.9636\n",
      "60000/60000 [==============================] - 3s 47us/step\n",
      "train loss: 0.20265968810717264\n",
      "train loss: 0.9675833333333334\n"
     ]
    }
   ],
   "source": [
    "#model 784==>200==>100=>10\n",
    "model = Sequential([\n",
    "    Dense(units=200,input_dim=784,bias_initializer='one',kernel_regularizer=l2(0.0003),activation='tanh'),\n",
    "    Dropout(0.4),\n",
    "    Dense(units=100,input_dim=200,bias_initializer='one',kernel_regularizer=l2(0.0003),activation='tanh'),\n",
    "    Dropout(0.4),\n",
    "    Dense(units=10,input_dim=100,bias_initializer='one',kernel_regularizer=l2(0.0003),activation='softmax'),\n",
    "])\n",
    "sgd = SGD(lr=0.1)\n",
    "model.compile(\n",
    "    optimizer=sgd,\n",
    "    loss='categorical_crossentropy',\n",
    "    metrics=['accuracy'])\n",
    "\n",
    "#train\n",
    "model.fit(x_train_data,y_train_data,batch_size=32,epochs=10)\n",
    "\n",
    "#evaluate of test data\n",
    "loss,accuracy = model.evaluate(x_test_data,y_test_data)\n",
    "print(\"test loss: \",loss)\n",
    "print(\"test acc: \",accuracy)\n",
    "\n",
    "#evaluate of train data\n",
    "loss,accuracy = model.evaluate(x_train_data,y_train_data)\n",
    "print(\"train loss:\",loss)\n",
    "print(\"train loss:\",accuracy)"
   ]
  },
  {
   "cell_type": "markdown",
   "metadata": {},
   "source": [
    "### 用自己写的数据测试"
   ]
  },
  {
   "cell_type": "code",
   "execution_count": 6,
   "metadata": {},
   "outputs": [],
   "source": [
    "def pred(name):\n",
    "    img = cv.imread(name,0)\n",
    "    img = cv.resize(img,(28,28),interpolation = 0)\n",
    "    plt.axis('off')\n",
    "    plt.imshow(img)\n",
    "    data = cv.resize(img,(784,1))/255.0\n",
    "    result = model.predict(data)\n",
    "    print(\"pre result:\",np.argmax(result,axis=1)-1)\n",
    "    return np.argmax(result,axis=1)-1"
   ]
  },
  {
   "cell_type": "code",
   "execution_count": 7,
   "metadata": {},
   "outputs": [
    {
     "name": "stdout",
     "output_type": "stream",
     "text": [
      "pre result: [2]\n",
      "pre result: [1]\n",
      "pre result: [4]\n",
      "pre result: [4]\n",
      "pre result: [4]\n",
      "pre result: [2]\n",
      "pre result: [4]\n",
      "pre result: [1]\n",
      "pre result: [4]\n",
      "pre result: [4]\n",
      "test acc: 0.2\n"
     ]
    },
    {
     "data": {
      "image/png": "[encoded data removed]",
      "text/plain": [
       "<Figure size 432x288 with 1 Axes>"
      ]
     },
     "metadata": {
      "needs_background": "light"
     },
     "output_type": "display_data"
    }
   ],
   "source": [
    "cnt = 0\n",
    "for i in range(10):\n",
    "    name = \"pictures/\"+str(i)+\".png\"\n",
    "    res = pred(name)\n",
    "    if res  == i:\n",
    "        cnt=cnt+1\n",
    "print(\"test acc:\",cnt/10.0)"
   ]
  },
  {
   "cell_type": "markdown",
   "metadata": {},
   "source": [
    "### 貌似准确率惨不忍睹=~="
   ]
  }
 ],
 "metadata": {
  "kernelspec": {
   "display_name": "Python 3",
   "language": "python",
   "name": "python3"
  },
  "language_info": {
   "codemirror_mode": {
    "name": "ipython",
    "version": 3
   },
   "file_extension": ".py",
   "mimetype": "text/x-python",
   "name": "python",
   "nbconvert_exporter": "python",
   "pygments_lexer": "ipython3",
   "version": "3.7.1"
  }
 },
 "nbformat": 4,
 "nbformat_minor": 2
}
