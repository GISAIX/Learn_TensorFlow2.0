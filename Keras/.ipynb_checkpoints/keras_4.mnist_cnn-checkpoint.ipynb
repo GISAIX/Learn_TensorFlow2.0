{
 "cells": [
  {
   "cell_type": "code",
   "execution_count": 1,
   "metadata": {},
   "outputs": [
    {
     "name": "stderr",
     "output_type": "stream",
     "text": [
      "Using TensorFlow backend.\n"
     ]
    }
   ],
   "source": [
    "import cv2 as cv\n",
    "import matplotlib.pyplot as plt\n",
    "import numpy as np\n",
    "from keras.datasets import mnist\n",
    "from keras.utils import np_utils\n",
    "from keras.models import Sequential\n",
    "from keras.layers import Dense,Dropout,Convolution2D,MaxPooling2D,Flatten\n",
    "from keras.optimizers import Adam"
   ]
  },
  {
   "cell_type": "code",
   "execution_count": 2,
   "metadata": {},
   "outputs": [
    {
     "name": "stdout",
     "output_type": "stream",
     "text": [
      "x_train_shape: (60000, 28, 28)\n",
      "y_train_shape: (60000,)\n",
      "x_test_shape: (10000, 28, 28)\n",
      "x_test_shape: (10000,)\n"
     ]
    }
   ],
   "source": [
    "(x_train_data,y_train_data),(x_test_data,y_test_data) = mnist.load_data()\n",
    "print(\"x_train_shape:\",x_train_data.shape)\n",
    "print(\"y_train_shape:\",y_train_data.shape)\n",
    "print(\"x_test_shape:\",x_test_data.shape)\n",
    "print(\"x_test_shape:\",y_test_data.shape)\n",
    "\n",
    "#60000x28x28 ==>60000x784 并且归一化\n",
    "x_train_data = x_train_data.reshape(-1,28,28,1)/255.0\n",
    "\n",
    "x_test_data = x_test_data.reshape(-1,28,28,1)/255.0\n",
    "\n",
    "# ==>onehot\n",
    "y_train_data = np_utils.to_categorical(y_train_data,num_classes=10)\n",
    "y_test_data = np_utils.to_categorical(y_test_data,num_classes=10)"
   ]
  },
  {
   "cell_type": "markdown",
   "metadata": {},
   "source": [
    "### Convolution2D参数：\n",
    "input_shape                \n",
    "filters 卷积核个数              \n",
    "kernel_size 卷积核大小               \n",
    "strides 步长              \n",
    "padding padding方式             \n",
    "activation 激活函数                 "
   ]
  },
  {
   "cell_type": "code",
   "execution_count": 3,
   "metadata": {},
   "outputs": [
    {
     "name": "stdout",
     "output_type": "stream",
     "text": [
      "WARNING:tensorflow:From C:\\Users\\Peco\\Anaconda3\\lib\\site-packages\\tensorflow\\python\\framework\\op_def_library.py:263: colocate_with (from tensorflow.python.framework.ops) is deprecated and will be removed in a future version.\n",
      "Instructions for updating:\n",
      "Colocations handled automatically by placer.\n",
      "WARNING:tensorflow:From C:\\Users\\Peco\\Anaconda3\\lib\\site-packages\\keras\\backend\\tensorflow_backend.py:3445: calling dropout (from tensorflow.python.ops.nn_ops) with keep_prob is deprecated and will be removed in a future version.\n",
      "Instructions for updating:\n",
      "Please use `rate` instead of `keep_prob`. Rate should be set to `rate = 1 - keep_prob`.\n",
      "WARNING:tensorflow:From C:\\Users\\Peco\\Anaconda3\\lib\\site-packages\\tensorflow\\python\\ops\\math_ops.py:3066: to_int32 (from tensorflow.python.ops.math_ops) is deprecated and will be removed in a future version.\n",
      "Instructions for updating:\n",
      "Use tf.cast instead.\n",
      "Epoch 1/5\n",
      "60000/60000 [==============================] - 238s 4ms/step - loss: 0.3359 - acc: 0.9018\n",
      "Epoch 2/5\n",
      "60000/60000 [==============================] - 179s 3ms/step - loss: 0.0930 - acc: 0.9726\n",
      "Epoch 3/5\n",
      "60000/60000 [==============================] - 193s 3ms/step - loss: 0.0661 - acc: 0.9800\n",
      "Epoch 4/5\n",
      "60000/60000 [==============================] - 184s 3ms/step - loss: 0.0519 - acc: 0.9844\n",
      "Epoch 5/5\n",
      "60000/60000 [==============================] - 184s 3ms/step - loss: 0.0426 - acc: 0.9865 3s - loss: 0\n",
      "10000/10000 [==============================] - 9s 946us/step\n",
      "test loss 0.030704623948410153\n",
      "test accuracy 0.9891\n"
     ]
    }
   ],
   "source": [
    "model = Sequential()\n",
    "#第一个卷积层\n",
    "model.add(Convolution2D(\n",
    "    input_shape = (28,28,1),\n",
    "    filters = 32,\n",
    "    kernel_size = 5,\n",
    "    strides = 1,\n",
    "    padding = 'same',\n",
    "    activation = 'relu'\n",
    "))\n",
    "# 第一个池化层\n",
    "model.add(MaxPooling2D(\n",
    "    pool_size = 2,\n",
    "    strides = 2,\n",
    "    padding = 'same',\n",
    "))\n",
    "# 第二个卷积层\n",
    "model.add(Convolution2D(64,5,strides=1,padding='same',activation = 'relu'))\n",
    "# 第二个池化层\n",
    "model.add(MaxPooling2D(2,2,'same'))\n",
    "# 把第二个池化层的输出扁平化为1维\n",
    "model.add(Flatten())\n",
    "# 第一个全连接层\n",
    "model.add(Dense(1024,activation = 'relu'))\n",
    "# Dropout\n",
    "model.add(Dropout(0.5))\n",
    "# 第二个全连接层\n",
    "model.add(Dense(10,activation='softmax'))\n",
    "\n",
    "# 定义优化器\n",
    "adam = Adam(lr=1e-4)\n",
    "\n",
    "# 定义优化器，loss function，训练过程中计算准确率\n",
    "model.compile(optimizer=adam,loss='categorical_crossentropy',metrics=['accuracy'])\n",
    "\n",
    "# 训练模型\n",
    "model.fit(x_train_data,y_train_data,batch_size=64,epochs=5)\n",
    "\n",
    "# 评估模型\n",
    "loss,accuracy = model.evaluate(x_test_data,y_test_data)\n",
    "\n",
    "print('test loss',loss)\n",
    "print('test accuracy',accuracy)"
   ]
  },
  {
   "cell_type": "code",
   "execution_count": 4,
   "metadata": {},
   "outputs": [],
   "source": [
    "\n",
    "def pred(name):\n",
    "    img = cv.imread(name,0)\n",
    "    img = cv.resize(img,(28,28),interpolation = 0)\n",
    "    img = 255-img\n",
    "    plt.axis('off')\n",
    "    plt.imshow(img)\n",
    "    img = img.reshape(-1,28,28,1)/255.0\n",
    "    result = model.predict(img)\n",
    "    print(\"pre result:\",np.argmax(result,axis=1))\n",
    "    return np.argmax(result,axis=1)"
   ]
  },
  {
   "cell_type": "code",
   "execution_count": 5,
   "metadata": {},
   "outputs": [
    {
     "name": "stdout",
     "output_type": "stream",
     "text": [
      "pre result: [0]\n",
      "pre result: [1]\n",
      "pre result: [2]\n",
      "pre result: [3]\n",
      "pre result: [4]\n",
      "pre result: [5]\n",
      "pre result: [6]\n",
      "pre result: [7]\n",
      "pre result: [8]\n",
      "pre result: [9]\n",
      "test acc: 1.0\n"
     ]
    },
    {
     "data": {
      "image/png": "[encoded data removed]",
      "text/plain": [
       "<Figure size 432x288 with 1 Axes>"
      ]
     },
     "metadata": {
      "needs_background": "light"
     },
     "output_type": "display_data"
    }
   ],
   "source": [
    "cnt = 0\n",
    "for i in range(10):\n",
    "    name = \"mnist_test_pictures/\"+str(i)+\".png\"\n",
    "    res = pred(name)\n",
    "    if res  == i:\n",
    "        cnt=cnt+1\n",
    "print(\"test acc:\",cnt/10.0)"
   ]
  },
  {
   "cell_type": "markdown",
   "metadata": {},
   "source": [
    "### CNN的准确率就很高了，仅仅训练了5个epoch的模型就可以得到很高的正确率"
   ]
  }
 ],
 "metadata": {
  "kernelspec": {
   "display_name": "Python 3",
   "language": "python",
   "name": "python3"
  },
  "language_info": {
   "codemirror_mode": {
    "name": "ipython",
    "version": 3
   },
   "file_extension": ".py",
   "mimetype": "text/x-python",
   "name": "python",
   "nbconvert_exporter": "python",
   "pygments_lexer": "ipython3",
   "version": "3.7.1"
  }
 },
 "nbformat": 4,
 "nbformat_minor": 2
}
