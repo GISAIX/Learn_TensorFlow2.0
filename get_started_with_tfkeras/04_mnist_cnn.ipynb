{
 "cells": [
  {
   "cell_type": "markdown",
   "metadata": {},
   "source": [
    "导入必要的包并检查版本"
   ]
  },
  {
   "cell_type": "code",
   "execution_count": 1,
   "metadata": {},
   "outputs": [
    {
     "name": "stdout",
     "output_type": "stream",
     "text": [
      "matplotlib 3.1.1\n",
      "numpy 1.16.0\n",
      "pandas 0.25.1\n",
      "sklearn 0.21.3\n",
      "tensorflow 2.0.0-beta0\n",
      "tensorflow.python.keras.api._v2.keras 2.2.4-tf\n"
     ]
    }
   ],
   "source": [
    "# check version\n",
    "\n",
    "import tensorflow as tf\n",
    "from tensorflow import keras\n",
    "\n",
    "import matplotlib as mpl\n",
    "import matplotlib.pyplot as plt\n",
    "%matplotlib inline\n",
    "\n",
    "import sklearn\n",
    "import numpy as np\n",
    "import pandas as pd\n",
    "import os,sys,time\n",
    "\n",
    "for module in mpl,np,pd,sklearn,tf,keras:\n",
    "    print(module.__name__,module.__version__)"
   ]
  },
  {
   "cell_type": "markdown",
   "metadata": {},
   "source": [
    "加载下载好的mnist数据集"
   ]
  },
  {
   "cell_type": "code",
   "execution_count": 2,
   "metadata": {},
   "outputs": [
    {
     "name": "stdout",
     "output_type": "stream",
     "text": [
      "x_train_shape: (60000, 28, 28)\n",
      "y_train_shape: (60000,)\n",
      "x_test_shape: (10000, 28, 28)\n",
      "y_test_shape: (10000,)\n"
     ]
    }
   ],
   "source": [
    "def load_mnist_func(path):\n",
    "    f = np.load(path)\n",
    "    x_train, y_train = f['x_train'], f['y_train']\n",
    "    x_test, y_test = f['x_test'], f['y_test']\n",
    "    f.close()\n",
    "    return (x_train, y_train), (x_test, y_test)\n",
    "\n",
    "\n",
    "(x_train_data,y_train_data),(x_test_data,y_test_data) = load_mnist_func(path='./data/mnist.npz')\n",
    "print(\"x_train_shape:\",x_train_data.shape)\n",
    "print(\"y_train_shape:\",y_train_data.shape)\n",
    "print(\"x_test_shape:\",x_test_data.shape)\n",
    "print(\"y_test_shape:\",y_test_data.shape)"
   ]
  },
  {
   "cell_type": "markdown",
   "metadata": {},
   "source": [
    "调整数据集格式并归一化，然后onehot编码\n"
   ]
  },
  {
   "cell_type": "code",
   "execution_count": 3,
   "metadata": {},
   "outputs": [
    {
     "name": "stdout",
     "output_type": "stream",
     "text": [
      "(10, 28, 28)\n"
     ]
    }
   ],
   "source": [
    "#选出10张图片之后做测试\n",
    "test_imgs = x_test_data[0:10]\n",
    "print(test_imgs.shape)"
   ]
  },
  {
   "cell_type": "code",
   "execution_count": 4,
   "metadata": {},
   "outputs": [],
   "source": [
    "#60000x28x28 ==>60000x784 并且归一化\n",
    "x_train_data = x_train_data.reshape(-1,28,28,1)/255.0\n",
    "\n",
    "x_test_data = x_test_data.reshape(-1,28,28,1)/255.0\n",
    "\n",
    "# ==>onehot\n",
    "y_train_data = keras.utils.to_categorical(y_train_data,num_classes=10)\n",
    "y_test_data = keras.utils.to_categorical(y_test_data,num_classes=10)"
   ]
  },
  {
   "cell_type": "markdown",
   "metadata": {},
   "source": [
    "训练模型"
   ]
  },
  {
   "cell_type": "code",
   "execution_count": 5,
   "metadata": {},
   "outputs": [
    {
     "name": "stdout",
     "output_type": "stream",
     "text": [
      "WARNING:tensorflow:From C:\\ProgramData\\Anaconda3\\envs\\tf2.0\\lib\\site-packages\\tensorflow\\python\\ops\\math_grad.py:1250: add_dispatch_support.<locals>.wrapper (from tensorflow.python.ops.array_ops) is deprecated and will be removed in a future version.\n",
      "Instructions for updating:\n",
      "Use tf.where in 2.0, which has the same broadcast rule as np.where\n",
      "Train on 60000 samples\n",
      "Epoch 1/5\n",
      "60000/60000 [==============================] - 35s 587us/sample - loss: 0.2496 - accuracy: 0.9188\n",
      "Epoch 2/5\n",
      "60000/60000 [==============================] - 35s 581us/sample - loss: 0.0745 - accuracy: 0.9758\n",
      "Epoch 3/5\n",
      "60000/60000 [==============================] - 37s 608us/sample - loss: 0.0523 - accuracy: 0.9833\n",
      "Epoch 4/5\n",
      "60000/60000 [==============================] - 35s 588us/sample - loss: 0.0396 - accuracy: 0.9877\n",
      "Epoch 5/5\n",
      "60000/60000 [==============================] - 35s 582us/sample - loss: 0.0329 - accuracy: 0.9893\n"
     ]
    },
    {
     "data": {
      "text/plain": [
       "<tensorflow.python.keras.callbacks.History at 0x251dec0fc88>"
      ]
     },
     "execution_count": 5,
     "metadata": {},
     "output_type": "execute_result"
    }
   ],
   "source": [
    "#搭建CNN Model\n",
    "\n",
    "model = keras.models.Sequential()\n",
    "model.add(keras.layers.Convolution2D(input_shape = (28,28,1),filters = 32,kernel_size = 3,\n",
    "    strides = 1,padding = 'same',activation = 'relu'))\n",
    "model.add(keras.layers.MaxPooling2D(pool_size = 2,strides =2,padding = 'same',))\n",
    "\n",
    "model.add(keras.layers.Convolution2D(64,3,strides=2,padding='same',activation = 'relu'))\n",
    "model.add(keras.layers.MaxPooling2D(2,2,'same'))\n",
    "\n",
    "#把第二个池化层的输出扁平化为1维\n",
    "model.add(keras.layers.Flatten())\n",
    "model.add(keras.layers.Dense(1024,activation = 'relu'))\n",
    "model.add(keras.layers.Dropout(0.25))\n",
    "model.add(keras.layers.Dense(10,activation='softmax'))\n",
    "\n",
    "sgd = keras.optimizers.SGD(lr=0.1)\n",
    "model.compile(\n",
    "    optimizer=sgd,\n",
    "    loss='categorical_crossentropy',\n",
    "    metrics=['accuracy'])\n",
    "\n",
    "#train\n",
    "model.fit(x_train_data,y_train_data,batch_size=32,epochs=5)"
   ]
  },
  {
   "cell_type": "code",
   "execution_count": 6,
   "metadata": {},
   "outputs": [
    {
     "name": "stdout",
     "output_type": "stream",
     "text": [
      "10000/10000 [==============================] - 2s 158us/sample - loss: 0.0309 - accuracy: 0.9894\n",
      "test loss:  0.030856357899319845\n",
      "test acc:  0.9894\n"
     ]
    }
   ],
   "source": [
    "#evaluate of test data\n",
    "loss,accuracy = model.evaluate(x_test_data,y_test_data)\n",
    "print(\"test loss: \",loss)\n",
    "print(\"test acc: \",accuracy)"
   ]
  },
  {
   "cell_type": "code",
   "execution_count": 7,
   "metadata": {},
   "outputs": [
    {
     "data": {
      "image/png": "[encoded data removed]",
      "text/plain": [
       "<Figure size 504x230.4 with 10 Axes>"
      ]
     },
     "metadata": {
      "needs_background": "light"
     },
     "output_type": "display_data"
    }
   ],
   "source": [
    "# show images\n",
    "plt.figure(figsize=(5*1.4,2*1.6))\n",
    "\n",
    "index = 0\n",
    "for row in range(2):\n",
    "    for col in range(5):\n",
    "        plt.subplot(2,5,index+1)\n",
    "        plt.imshow(test_imgs[index],interpolation='nearest')\n",
    "        index+=1\n",
    "        plt.axis('off')\n",
    "plt.show()"
   ]
  },
  {
   "cell_type": "code",
   "execution_count": 8,
   "metadata": {},
   "outputs": [
    {
     "name": "stdout",
     "output_type": "stream",
     "text": [
      "[7]\n",
      "[2]\n",
      "[1]\n",
      "[0]\n",
      "[4]\n",
      "[1]\n",
      "[4]\n",
      "[9]\n",
      "[5]\n",
      "[9]\n"
     ]
    }
   ],
   "source": [
    "for i in range(10):\n",
    "    print(np.argmax(model.predict(test_imgs[i].reshape(-1,28,28,1)/255.0),axis=1))"
   ]
  }
 ],
 "metadata": {
  "kernelspec": {
   "display_name": "tf2.0",
   "language": "python",
   "name": "tf2.0"
  },
  "language_info": {
   "codemirror_mode": {
    "name": "ipython",
    "version": 3
   },
   "file_extension": ".py",
   "mimetype": "text/x-python",
   "name": "python",
   "nbconvert_exporter": "python",
   "pygments_lexer": "ipython3",
   "version": "3.7.0"
  }
 },
 "nbformat": 4,
 "nbformat_minor": 2
}
